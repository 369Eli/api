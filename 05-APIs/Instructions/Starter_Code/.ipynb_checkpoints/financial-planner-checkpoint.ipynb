{
 "cells": [
  {
   "cell_type": "markdown",
   "metadata": {},
   "source": [
    "# Unit 5 - Financial Planning"
   ]
  },
  {
   "cell_type": "code",
   "execution_count": 26,
   "metadata": {},
   "outputs": [],
   "source": [
    "# Initial imports\n",
    "import os\n",
    "import requests\n",
    "import pandas as pd\n",
    "from dotenv import load_dotenv\n",
    "import alpaca_trade_api as tradeapi\n",
    "from MCForecastTools import MCSimulation\n",
    "\n",
    "%matplotlib inline"
   ]
  },
  {
   "cell_type": "code",
   "execution_count": 27,
   "metadata": {},
   "outputs": [
    {
     "data": {
      "text/plain": [
       "True"
      ]
     },
     "execution_count": 27,
     "metadata": {},
     "output_type": "execute_result"
    }
   ],
   "source": [
    "# Load .env enviroment variables\n",
    "load_dotenv()"
   ]
  },
  {
   "cell_type": "markdown",
   "metadata": {},
   "source": [
    "## Part 1 - Personal Finance Planner"
   ]
  },
  {
   "cell_type": "markdown",
   "metadata": {},
   "source": [
    "### Collect Crypto Prices Using the `requests` Library"
   ]
  },
  {
   "cell_type": "code",
   "execution_count": 28,
   "metadata": {},
   "outputs": [],
   "source": [
    "# Set current amount of crypto assets\n",
    "my_btc = 1.2\n",
    "my_eth = 5.3"
   ]
  },
  {
   "cell_type": "code",
   "execution_count": 29,
   "metadata": {},
   "outputs": [],
   "source": [
    "# Crypto API URLs\n",
    "btc_url = \"https://api.alternative.me/v2/ticker/Bitcoin/?convert=CAD\"\n",
    "eth_url = \"https://api.alternative.me/v2/ticker/Ethereum/?convert=CAD\""
   ]
  },
  {
   "cell_type": "code",
   "execution_count": 30,
   "metadata": {},
   "outputs": [
    {
     "name": "stdout",
     "output_type": "stream",
     "text": [
      "{\n",
      "    \"data\": {\n",
      "        \"1\": {\n",
      "            \"id\": 1,\n",
      "            \"name\": \"Bitcoin\",\n",
      "            \"symbol\": \"BTC\",\n",
      "            \"website_slug\": \"bitcoin\",\n",
      "            \"rank\": 1,\n",
      "            \"circulating_supply\": 18742212,\n",
      "            \"total_supply\": 18742212,\n",
      "            \"max_supply\": 21000000,\n",
      "            \"quotes\": {\n",
      "                \"USD\": {\n",
      "                    \"price\": 34988.0,\n",
      "                    \"volume_24h\": 32194152893,\n",
      "                    \"market_cap\": 654857835752,\n",
      "                    \"percentage_change_1h\": -0.845720627333503,\n",
      "                    \"percentage_change_24h\": 7.12042172210743,\n",
      "                    \"percentage_change_7d\": -8.39272836580189,\n",
      "                    \"percent_change_1h\": -0.845720627333503,\n",
      "                    \"percent_change_24h\": 7.12042172210743,\n",
      "                    \"percent_change_7d\": -8.39272836580189\n",
      "                },\n",
      "                \"CAD\": {\n",
      "                    \"price\": 43077.2256,\n",
      "                    \"volume_24h\": 39637441041.8616,\n",
      "                    \"market_cap\": 806260967377.863,\n",
      "                    \"percent_change_1h\": -0.845720627333503,\n",
      "                    \"percent_change_24h\": 7.12042172210743,\n",
      "                    \"percent_change_7d\": -8.39272836580189\n",
      "                }\n",
      "            },\n",
      "            \"last_updated\": 1624592994\n",
      "        }\n",
      "    },\n",
      "    \"metadata\": {\n",
      "        \"timestamp\": 1624592994,\n",
      "        \"num_cryptocurrencies\": 1280,\n",
      "        \"error\": null\n",
      "    }\n",
      "}\n",
      "{\n",
      "    \"data\": {\n",
      "        \"1027\": {\n",
      "            \"id\": 1027,\n",
      "            \"name\": \"Ethereum\",\n",
      "            \"symbol\": \"ETH\",\n",
      "            \"website_slug\": \"ethereum\",\n",
      "            \"rank\": 2,\n",
      "            \"circulating_supply\": 116426725,\n",
      "            \"total_supply\": 116426725,\n",
      "            \"max_supply\": 0,\n",
      "            \"quotes\": {\n",
      "                \"USD\": {\n",
      "                    \"price\": 1992.62,\n",
      "                    \"volume_24h\": 22284380520,\n",
      "                    \"market_cap\": 231851763698,\n",
      "                    \"percentage_change_1h\": -1.11136640950082,\n",
      "                    \"percentage_change_24h\": 4.91658812491751,\n",
      "                    \"percentage_change_7d\": -16.3028196797088,\n",
      "                    \"percent_change_1h\": -1.11136640950082,\n",
      "                    \"percent_change_24h\": 4.91658812491751,\n",
      "                    \"percent_change_7d\": -16.3028196797088\n",
      "                },\n",
      "                \"CAD\": {\n",
      "                    \"price\": 2453.313744,\n",
      "                    \"volume_24h\": 27436529296.224,\n",
      "                    \"market_cap\": 285455891464.978,\n",
      "                    \"percent_change_1h\": -1.11136640950082,\n",
      "                    \"percent_change_24h\": 4.91658812491751,\n",
      "                    \"percent_change_7d\": -16.3028196797088\n",
      "                }\n",
      "            },\n",
      "            \"last_updated\": 1624592998\n",
      "        }\n",
      "    },\n",
      "    \"metadata\": {\n",
      "        \"timestamp\": 1624592998,\n",
      "        \"num_cryptocurrencies\": 1280,\n",
      "        \"error\": null\n",
      "    }\n",
      "}\n"
     ]
    }
   ],
   "source": [
    "# pull json raw data and print command to view it.\n",
    "# Json import library\n",
    "response_data_btc = requests.get(btc_url)\n",
    "response_data_btc\n",
    "response_content_btc = response_data_btc.content\n",
    "response_content_btc\n",
    "data_btc = response_data_btc.json()\n",
    "import json\n",
    "print(json.dumps(data_btc, indent=4))\n",
    "response_data_eth = requests.get(eth_url)\n",
    "response_content_eth = response_data_eth.content\n",
    "data_eth = response_data_eth.json()\n",
    "import json\n",
    "\n",
    "print(json.dumps(data_eth, indent=4))"
   ]
  },
  {
   "cell_type": "code",
   "execution_count": 31,
   "metadata": {},
   "outputs": [
    {
     "name": "stdout",
     "output_type": "stream",
     "text": [
      "The current value of your 1.2 BTC is $41985.60\n",
      "The current value of your 5.3 ETH is $10560.89\n"
     ]
    }
   ],
   "source": [
    "# Fetch current BTC price and \n",
    "btc_value = data_btc[\"data\"][\"1\"][\"quotes\"][\"USD\"][\"price\"]\n",
    "\n",
    "# Compute current value of my crypto\n",
    "my_btc_value = my_btc * btc_value\n",
    "\n",
    "# Fetch current ETH price\n",
    "eth_value = data_eth[\"data\"][\"1027\"][\"quotes\"][\"USD\"][\"price\"]\n",
    "# Compute current value of my crypto\n",
    "my_eth_value = my_eth * eth_value\n",
    "\n",
    "# Print current crypto wallet balance\n",
    "print(f\"The current value of your {my_btc} BTC is ${my_btc_value:0.2f}\")\n",
    "print(f\"The current value of your {my_eth} ETH is ${my_eth_value:0.2f}\")"
   ]
  },
  {
   "cell_type": "markdown",
   "metadata": {},
   "source": [
    "### Collect Investments Data Using Alpaca: `SPY` (stocks) and `AGG` (bonds)"
   ]
  },
  {
   "cell_type": "markdown",
   "metadata": {},
   "source": []
  },
  {
   "cell_type": "code",
   "execution_count": 32,
   "metadata": {},
   "outputs": [],
   "source": [
    "# Set current amount of shares\n",
    "my_agg = 200\n",
    "my_spy = 50"
   ]
  },
  {
   "cell_type": "code",
   "execution_count": 33,
   "metadata": {},
   "outputs": [],
   "source": [
    "# Set Alpaca API key and secret\n",
    "# Set Alpaca API key and secret\n",
    "ALPACA_API_KEY = os.getenv('ALPACA_API_KEY')\n",
    "ALPACA_SECERET_KEY = os.getenv('ALPACA_SECRET_KEY')"
   ]
  },
  {
   "cell_type": "code",
   "execution_count": null,
   "metadata": {},
   "outputs": [],
   "source": []
  },
  {
   "cell_type": "code",
   "execution_count": null,
   "metadata": {},
   "outputs": [],
   "source": []
  },
  {
   "cell_type": "code",
   "execution_count": 44,
   "metadata": {
    "tags": []
   },
   "outputs": [
    {
     "data": {
      "text/plain": [
       "<alpaca_trade_api.rest.REST at 0x7f89034985d0>"
      ]
     },
     "execution_count": 44,
     "metadata": {},
     "output_type": "execute_result"
    }
   ],
   "source": [
    "# Create the Alpaca API object\n",
    "#api = tradeapi.REST(alpaca_api_key, alpaca_secret_key, api_version = \"v2\")(\"ALPACA_API_KEY\")\n",
    "#alpaca_secret_key = os.getenv(\"ALPACA_SECRET_KEY\")\n",
    "\n",
    "# Create the Alpaca API object\n",
    "api = tradeapi.REST(ALPACA_API_KEY, ALPACA_SECERET_KEY, api_version = \"v2\")\n",
    "api"
   ]
  },
  {
   "cell_type": "code",
   "execution_count": 45,
   "metadata": {},
   "outputs": [
    {
     "data": {
      "text/html": [
       "<div>\n",
       "<style scoped>\n",
       "    .dataframe tbody tr th:only-of-type {\n",
       "        vertical-align: middle;\n",
       "    }\n",
       "\n",
       "    .dataframe tbody tr th {\n",
       "        vertical-align: top;\n",
       "    }\n",
       "\n",
       "    .dataframe thead tr th {\n",
       "        text-align: left;\n",
       "    }\n",
       "\n",
       "    .dataframe thead tr:last-of-type th {\n",
       "        text-align: right;\n",
       "    }\n",
       "</style>\n",
       "<table border=\"1\" class=\"dataframe\">\n",
       "  <thead>\n",
       "    <tr>\n",
       "      <th></th>\n",
       "      <th colspan=\"5\" halign=\"left\">AGG</th>\n",
       "      <th colspan=\"5\" halign=\"left\">SPY</th>\n",
       "    </tr>\n",
       "    <tr>\n",
       "      <th></th>\n",
       "      <th>open</th>\n",
       "      <th>high</th>\n",
       "      <th>low</th>\n",
       "      <th>close</th>\n",
       "      <th>volume</th>\n",
       "      <th>open</th>\n",
       "      <th>high</th>\n",
       "      <th>low</th>\n",
       "      <th>close</th>\n",
       "      <th>volume</th>\n",
       "    </tr>\n",
       "    <tr>\n",
       "      <th>time</th>\n",
       "      <th></th>\n",
       "      <th></th>\n",
       "      <th></th>\n",
       "      <th></th>\n",
       "      <th></th>\n",
       "      <th></th>\n",
       "      <th></th>\n",
       "      <th></th>\n",
       "      <th></th>\n",
       "      <th></th>\n",
       "    </tr>\n",
       "  </thead>\n",
       "  <tbody>\n",
       "    <tr>\n",
       "      <th>2021-06-18 00:00:00-04:00</th>\n",
       "      <td>115.05</td>\n",
       "      <td>115.390</td>\n",
       "      <td>114.910</td>\n",
       "      <td>115.29</td>\n",
       "      <td>5438261</td>\n",
       "      <td>417.08</td>\n",
       "      <td>417.8281</td>\n",
       "      <td>414.70</td>\n",
       "      <td>415.01</td>\n",
       "      <td>92753385</td>\n",
       "    </tr>\n",
       "    <tr>\n",
       "      <th>2021-06-21 00:00:00-04:00</th>\n",
       "      <td>115.06</td>\n",
       "      <td>115.120</td>\n",
       "      <td>114.921</td>\n",
       "      <td>114.96</td>\n",
       "      <td>4934966</td>\n",
       "      <td>416.80</td>\n",
       "      <td>421.0600</td>\n",
       "      <td>415.93</td>\n",
       "      <td>420.85</td>\n",
       "      <td>63727942</td>\n",
       "    </tr>\n",
       "    <tr>\n",
       "      <th>2021-06-22 00:00:00-04:00</th>\n",
       "      <td>114.83</td>\n",
       "      <td>115.140</td>\n",
       "      <td>114.830</td>\n",
       "      <td>115.11</td>\n",
       "      <td>5299846</td>\n",
       "      <td>420.85</td>\n",
       "      <td>424.0000</td>\n",
       "      <td>420.08</td>\n",
       "      <td>423.06</td>\n",
       "      <td>50857233</td>\n",
       "    </tr>\n",
       "    <tr>\n",
       "      <th>2021-06-23 00:00:00-04:00</th>\n",
       "      <td>115.06</td>\n",
       "      <td>115.138</td>\n",
       "      <td>114.990</td>\n",
       "      <td>115.05</td>\n",
       "      <td>5000374</td>\n",
       "      <td>423.19</td>\n",
       "      <td>424.0500</td>\n",
       "      <td>422.51</td>\n",
       "      <td>422.60</td>\n",
       "      <td>41476351</td>\n",
       "    </tr>\n",
       "    <tr>\n",
       "      <th>2021-06-24 00:00:00-04:00</th>\n",
       "      <td>115.10</td>\n",
       "      <td>115.170</td>\n",
       "      <td>115.045</td>\n",
       "      <td>115.07</td>\n",
       "      <td>6672880</td>\n",
       "      <td>424.89</td>\n",
       "      <td>425.5500</td>\n",
       "      <td>424.62</td>\n",
       "      <td>425.09</td>\n",
       "      <td>39863529</td>\n",
       "    </tr>\n",
       "  </tbody>\n",
       "</table>\n",
       "</div>"
      ],
      "text/plain": [
       "                              AGG                                        SPY  \\\n",
       "                             open     high      low   close   volume    open   \n",
       "time                                                                           \n",
       "2021-06-18 00:00:00-04:00  115.05  115.390  114.910  115.29  5438261  417.08   \n",
       "2021-06-21 00:00:00-04:00  115.06  115.120  114.921  114.96  4934966  416.80   \n",
       "2021-06-22 00:00:00-04:00  114.83  115.140  114.830  115.11  5299846  420.85   \n",
       "2021-06-23 00:00:00-04:00  115.06  115.138  114.990  115.05  5000374  423.19   \n",
       "2021-06-24 00:00:00-04:00  115.10  115.170  115.045  115.07  6672880  424.89   \n",
       "\n",
       "                                                               \n",
       "                               high     low   close    volume  \n",
       "time                                                           \n",
       "2021-06-18 00:00:00-04:00  417.8281  414.70  415.01  92753385  \n",
       "2021-06-21 00:00:00-04:00  421.0600  415.93  420.85  63727942  \n",
       "2021-06-22 00:00:00-04:00  424.0000  420.08  423.06  50857233  \n",
       "2021-06-23 00:00:00-04:00  424.0500  422.51  422.60  41476351  \n",
       "2021-06-24 00:00:00-04:00  425.5500  424.62  425.09  39863529  "
      ]
     },
     "execution_count": 45,
     "metadata": {},
     "output_type": "execute_result"
    }
   ],
   "source": [
    "# Format current date as ISO format\n",
    "today = pd.Timestamp(\"2021-06-15\", tz=\"America/New_York\").isoformat()\n",
    "\n",
    "# Set the tickers\n",
    "tickers = [\"AGG\", \"SPY\"]\n",
    "\n",
    "# Set timeframe to '1D' for Alpaca API\n",
    "timeframe = \"1D\"\n",
    "\n",
    "# Get current closing prices for SPY and AGG\n",
    "# (use a limit=1000 parameter to call the most recent 1000 days of data)\n",
    "df_investments = api.get_barset(\n",
    "tickers,\n",
    "    timeframe,\n",
    "    start=today,\n",
    "    limit=1000\n",
    ").df\n",
    "\n",
    "# Preview DataFrame\n",
    "\n",
    "df_investments.sort_index\n",
    "df_investments.tail()\n"
   ]
  },
  {
   "cell_type": "code",
   "execution_count": 46,
   "metadata": {},
   "outputs": [
    {
     "name": "stdout",
     "output_type": "stream",
     "text": [
      "Current AGG closing price: $115.07\n",
      "Current SPY closing price: $425.09\n"
     ]
    }
   ],
   "source": [
    "# Pick AGG and SPY close prices\n",
    "len(df_investments)\n",
    "current_day = df_investments.iloc[len(df_investments)-1]\n",
    "agg_close_price = current_day[\"AGG\"][\"close\"]\n",
    "spy_close_price = current_day[\"SPY\"][\"close\"]\n",
    "\n",
    "# Print AGG and SPY close prices\n",
    "print(f\"Current AGG closing price: ${agg_close_price}\")\n",
    "print(f\"Current SPY closing price: ${spy_close_price}\")"
   ]
  },
  {
   "cell_type": "code",
   "execution_count": 47,
   "metadata": {},
   "outputs": [
    {
     "name": "stdout",
     "output_type": "stream",
     "text": [
      "The current value of your 50 SPY shares is $21254.50\n",
      "The current value of your 200 AGG shares is $23014.00\n"
     ]
    }
   ],
   "source": [
    "# Compute the current value of shares\n",
    "my_agg_value = my_agg * agg_close_price\n",
    "my_spy_value = my_spy * spy_close_price\n",
    "\n",
    "# Print current value of shares\n",
    "print(f\"The current value of your {my_spy} SPY shares is ${my_spy_value:0.2f}\")\n",
    "print(f\"The current value of your {my_agg} AGG shares is ${my_agg_value:0.2f}\")"
   ]
  },
  {
   "cell_type": "markdown",
   "metadata": {},
   "source": [
    "### Savings Health Analysis"
   ]
  },
  {
   "cell_type": "code",
   "execution_count": 48,
   "metadata": {},
   "outputs": [
    {
     "data": {
      "text/html": [
       "<div>\n",
       "<style scoped>\n",
       "    .dataframe tbody tr th:only-of-type {\n",
       "        vertical-align: middle;\n",
       "    }\n",
       "\n",
       "    .dataframe tbody tr th {\n",
       "        vertical-align: top;\n",
       "    }\n",
       "\n",
       "    .dataframe thead th {\n",
       "        text-align: right;\n",
       "    }\n",
       "</style>\n",
       "<table border=\"1\" class=\"dataframe\">\n",
       "  <thead>\n",
       "    <tr style=\"text-align: right;\">\n",
       "      <th></th>\n",
       "      <th>amount</th>\n",
       "    </tr>\n",
       "  </thead>\n",
       "  <tbody>\n",
       "    <tr>\n",
       "      <th>crypto</th>\n",
       "      <td>52546.486</td>\n",
       "    </tr>\n",
       "    <tr>\n",
       "      <th>shares</th>\n",
       "      <td>44268.500</td>\n",
       "    </tr>\n",
       "  </tbody>\n",
       "</table>\n",
       "</div>"
      ],
      "text/plain": [
       "           amount\n",
       "crypto  52546.486\n",
       "shares  44268.500"
      ]
     },
     "metadata": {},
     "output_type": "display_data"
    },
    {
     "data": {
      "text/plain": [
       "pandas.core.frame.DataFrame"
      ]
     },
     "execution_count": 48,
     "metadata": {},
     "output_type": "execute_result"
    }
   ],
   "source": [
    "# Set monthly household income\n",
    "monthly_income = 12000\n",
    "\n",
    "# Consolidate financial assets data\n",
    "total_crypto_value = my_btc_value + my_eth_value\n",
    "total_shares_value = my_spy_value + my_agg_value\n",
    "\n",
    "# Create savings DataFrame\n",
    "savings = {'amount' : [total_crypto_value, total_shares_value]}\n",
    "df_savings = pd.DataFrame(savings, index= ['crypto', 'shares']) \n",
    "\n",
    "# Display savings DataFrame\n",
    "display(df_savings)\n",
    "type(df_savings)"
   ]
  },
  {
   "cell_type": "code",
   "execution_count": 49,
   "metadata": {},
   "outputs": [
    {
     "data": {
      "image/png": "[encoded data removed]",
      "text/plain": [
       "<Figure size 576x576 with 1 Axes>"
      ]
     },
     "metadata": {},
     "output_type": "display_data"
    }
   ],
   "source": [
    "# Plot savings pie chart\n",
    "df_savings.plot.pie(y='amount', figsize=(8, 8));"
   ]
  },
  {
   "cell_type": "code",
   "execution_count": 50,
   "metadata": {},
   "outputs": [
    {
     "name": "stdout",
     "output_type": "stream",
     "text": [
      "Congratulations you have enough savings = 96814.986 more than emergency funds = 36000\n"
     ]
    }
   ],
   "source": [
    "# Set ideal emergency fund\n",
    "emergency_fund = monthly_income * 3\n",
    "\n",
    "# Calculate total amount of savings\n",
    "total_savings = df_savings.sum()[0]\n",
    "\n",
    "# Validate saving health with an if/elif/else statement:\n",
    "\n",
    "if ( total_savings > emergency_fund ):\n",
    "    print(f'Congratulations you have enough savings = {total_savings} more than emergency funds = {emergency_fund}')\n",
    "elif total_savings == emergency_fund:\n",
    "    print(f'Congratulations on reaching enough savings = {total_savings} as emergency fund needed = {emergency_fund}')\n",
    "else:\n",
    "    print(f'Your savings = {total_savings} are less than emergency funds = {emergency_fund}')"
   ]
  },
  {
   "cell_type": "markdown",
   "metadata": {},
   "source": [
    "## Part 2 - Retirement Planning\n",
    "\n",
    "### Monte Carlo Simulation"
   ]
  },
  {
   "cell_type": "code",
   "execution_count": 51,
   "metadata": {},
   "outputs": [],
   "source": [
    "# Set start and end dates of five years back from today.\n",
    "# Sample results may vary from the solution based on the time frame chosen\n",
    "start_date = pd.Timestamp('2016-05-01', tz='America/New_York').isoformat()\n",
    "end_date = pd.Timestamp('2021-05-01', tz='America/New_York').isoformat()"
   ]
  },
  {
   "cell_type": "code",
   "execution_count": 52,
   "metadata": {},
   "outputs": [
    {
     "name": "stdout",
     "output_type": "stream",
     "text": [
      "                               AGG                                       \\\n",
      "                              open      high      low    close   volume   \n",
      "time                                                                      \n",
      "2021-06-15 00:00:00-04:00  114.900  115.0200  114.870  114.995  5842592   \n",
      "2021-06-16 00:00:00-04:00  115.070  115.1285  114.510  114.630  7527672   \n",
      "2021-06-17 00:00:00-04:00  114.792  115.2500  114.785  114.990  7417691   \n",
      "2021-06-18 00:00:00-04:00  115.050  115.3900  114.910  115.290  5438261   \n",
      "2021-06-21 00:00:00-04:00  115.060  115.1200  114.921  114.960  4934966   \n",
      "\n",
      "                              SPY                                      \n",
      "                             open      high     low   close    volume  \n",
      "time                                                                   \n",
      "2021-06-15 00:00:00-04:00  425.43  425.4600  423.54  424.50  42885806  \n",
      "2021-06-16 00:00:00-04:00  424.63  424.8700  419.92  422.12  73638324  \n",
      "2021-06-17 00:00:00-04:00  421.67  423.0200  419.32  421.97  71991686  \n",
      "2021-06-18 00:00:00-04:00  417.08  417.8281  414.70  415.01  92753385  \n",
      "2021-06-21 00:00:00-04:00  416.80  421.0600  415.93  420.85  63727942  \n",
      "                              AGG                                        SPY  \\\n",
      "                             open     high      low   close   volume    open   \n",
      "time                                                                           \n",
      "2021-06-18 00:00:00-04:00  115.05  115.390  114.910  115.29  5438261  417.08   \n",
      "2021-06-21 00:00:00-04:00  115.06  115.120  114.921  114.96  4934966  416.80   \n",
      "2021-06-22 00:00:00-04:00  114.83  115.140  114.830  115.11  5299846  420.85   \n",
      "2021-06-23 00:00:00-04:00  115.06  115.138  114.990  115.05  5000374  423.19   \n",
      "2021-06-24 00:00:00-04:00  115.10  115.170  115.045  115.07  6672880  424.89   \n",
      "\n",
      "                                                               \n",
      "                               high     low   close    volume  \n",
      "time                                                           \n",
      "2021-06-18 00:00:00-04:00  417.8281  414.70  415.01  92753385  \n",
      "2021-06-21 00:00:00-04:00  421.0600  415.93  420.85  63727942  \n",
      "2021-06-22 00:00:00-04:00  424.0000  420.08  423.06  50857233  \n",
      "2021-06-23 00:00:00-04:00  424.0500  422.51  422.60  41476351  \n",
      "2021-06-24 00:00:00-04:00  425.5500  424.62  425.09  39863529  \n"
     ]
    }
   ],
   "source": [
    "# preview results with print command.\n",
    "print(df_investments.head())      \n",
    "print(df_investments.tail())  "
   ]
  },
  {
   "cell_type": "code",
   "execution_count": 58,
   "metadata": {},
   "outputs": [
    {
     "name": "stdout",
     "output_type": "stream",
     "text": [
      "                              AGG                                       \\\n",
      "                             open     high       low    close   volume   \n",
      "time                                                                     \n",
      "2017-05-11 00:00:00-04:00  108.35  108.540  108.3435  108.515  1773499   \n",
      "2017-05-12 00:00:00-04:00  108.81  108.940  108.7800  108.920  1136553   \n",
      "2017-05-15 00:00:00-04:00  108.85  108.940  108.8200  108.890  1620264   \n",
      "2017-05-16 00:00:00-04:00  108.88  109.101  108.8800  109.000  1394153   \n",
      "2017-05-17 00:00:00-04:00  109.35  109.600  109.2800  109.560  2263851   \n",
      "\n",
      "                              SPY                                      \n",
      "                             open    high     low    close     volume  \n",
      "time                                                                   \n",
      "2017-05-11 00:00:00-04:00  239.35  239.57  238.13  239.410   45435690  \n",
      "2017-05-12 00:00:00-04:00  239.09  239.21  238.67  239.030   35283567  \n",
      "2017-05-15 00:00:00-04:00  239.47  240.44  239.45  240.245   42230620  \n",
      "2017-05-16 00:00:00-04:00  240.62  240.67  239.63  240.100   37206183  \n",
      "2017-05-17 00:00:00-04:00  238.10  238.64  235.75  235.850  118613594  \n",
      "                              AGG                                        SPY  \\\n",
      "                             open      high     low   close   volume    open   \n",
      "time                                                                           \n",
      "2021-04-26 00:00:00-04:00  114.74  114.8015  114.65  114.65  2867784  417.44   \n",
      "2021-04-27 00:00:00-04:00  115.13  115.1300  114.37  114.37  3421667  417.91   \n",
      "2021-04-28 00:00:00-04:00  114.45  114.4685  114.20  114.44  6185936  417.81   \n",
      "2021-04-29 00:00:00-04:00  114.14  114.3700  114.09  114.37  5796983  420.33   \n",
      "2021-04-30 00:00:00-04:00  114.41  114.5150  114.33  114.50  5160765  417.63   \n",
      "\n",
      "                                                               \n",
      "                             high       low   close    volume  \n",
      "time                                                           \n",
      "2021-04-26 00:00:00-04:00  418.22  416.8111  417.64  44689009  \n",
      "2021-04-27 00:00:00-04:00  418.14  416.3000  417.48  45962264  \n",
      "2021-04-28 00:00:00-04:00  419.01  416.9000  417.35  45533863  \n",
      "2021-04-29 00:00:00-04:00  420.72  416.4400  419.98  70595229  \n",
      "2021-04-30 00:00:00-04:00  418.54  416.3400  417.30  73129109  \n"
     ]
    }
   ],
   "source": [
    "# get the remaining 1 year.\n",
    "df_investments_rest = api.get_barset(\n",
    "    tickers,\n",
    "    timeframe,\n",
    "    limit = 1000,\n",
    "    start = start_date,\n",
    "    end = end_date\n",
    ").df\n",
    "# print to check the new 1 year data extra\n",
    "print(df_investments_rest.head())\n",
    "print(df_investments_rest.tail())"
   ]
  },
  {
   "cell_type": "code",
   "execution_count": 59,
   "metadata": {},
   "outputs": [
    {
     "name": "stdout",
     "output_type": "stream",
     "text": [
      "                              AGG                                        SPY  \\\n",
      "                             open     high      low   close   volume    open   \n",
      "time                                                                           \n",
      "2021-06-18 00:00:00-04:00  115.05  115.390  114.910  115.29  5438261  417.08   \n",
      "2021-06-21 00:00:00-04:00  115.06  115.120  114.921  114.96  4934966  416.80   \n",
      "2021-06-22 00:00:00-04:00  114.83  115.140  114.830  115.11  5299846  420.85   \n",
      "2021-06-23 00:00:00-04:00  115.06  115.138  114.990  115.05  5000374  423.19   \n",
      "2021-06-24 00:00:00-04:00  115.10  115.170  115.045  115.07  6672880  424.89   \n",
      "\n",
      "                                                               \n",
      "                               high     low   close    volume  \n",
      "time                                                           \n",
      "2021-06-18 00:00:00-04:00  417.8281  414.70  415.01  92753385  \n",
      "2021-06-21 00:00:00-04:00  421.0600  415.93  420.85  63727942  \n",
      "2021-06-22 00:00:00-04:00  424.0000  420.08  423.06  50857233  \n",
      "2021-06-23 00:00:00-04:00  424.0500  422.51  422.60  41476351  \n",
      "2021-06-24 00:00:00-04:00  425.5500  424.62  425.09  39863529  \n",
      "Total days of data = 1008\n"
     ]
    }
   ],
   "source": [
    "# Get 5 years' worth of historical data for SPY and AGG\n",
    "# (use a limit=1000 parameter to call the most recent 1000 days of data)\n",
    "# Pull 4 prior yrs data\n",
    "df_stock_data = pd.concat([df_investments_rest, df_investments], axis=\"rows\", join=\"inner\")\n",
    "\n",
    "#sort data index and organize by date/time\n",
    "df_stock_data.sort_index\n",
    "# Display sample data\n",
    "df_stock_data.head()\n",
    "\n",
    "# Display sample data\n",
    "print(df_stock_data.tail())\n",
    "print(f'Total days of data = {len(df_stock_data)}') "
   ]
  },
  {
   "cell_type": "code",
   "execution_count": 60,
   "metadata": {},
   "outputs": [],
   "source": [
    "# Configuring a Monte Carlo simulation to forecast 30 years cumulative returns\n",
    "# use limit=1000 to call the most recent 1000 days of data\n",
    "# should be 5 yrs\n",
    "MC_even_dist = MCSimulation(\n",
    "    portfolio_data = df_stock_data,\n",
    "    weights = [.4,.6 ],\n",
    "    num_simulation = 500,\n",
    "    num_trading_days = 252*30\n",
    ")"
   ]
  },
  {
   "cell_type": "code",
   "execution_count": 61,
   "metadata": {},
   "outputs": [
    {
     "data": {
      "text/html": [
       "<div>\n",
       "<style scoped>\n",
       "    .dataframe tbody tr th:only-of-type {\n",
       "        vertical-align: middle;\n",
       "    }\n",
       "\n",
       "    .dataframe tbody tr th {\n",
       "        vertical-align: top;\n",
       "    }\n",
       "\n",
       "    .dataframe thead tr th {\n",
       "        text-align: left;\n",
       "    }\n",
       "\n",
       "    .dataframe thead tr:last-of-type th {\n",
       "        text-align: right;\n",
       "    }\n",
       "</style>\n",
       "<table border=\"1\" class=\"dataframe\">\n",
       "  <thead>\n",
       "    <tr>\n",
       "      <th></th>\n",
       "      <th colspan=\"6\" halign=\"left\">AGG</th>\n",
       "      <th colspan=\"6\" halign=\"left\">SPY</th>\n",
       "    </tr>\n",
       "    <tr>\n",
       "      <th></th>\n",
       "      <th>open</th>\n",
       "      <th>high</th>\n",
       "      <th>low</th>\n",
       "      <th>close</th>\n",
       "      <th>volume</th>\n",
       "      <th>daily_return</th>\n",
       "      <th>open</th>\n",
       "      <th>high</th>\n",
       "      <th>low</th>\n",
       "      <th>close</th>\n",
       "      <th>volume</th>\n",
       "      <th>daily_return</th>\n",
       "    </tr>\n",
       "    <tr>\n",
       "      <th>time</th>\n",
       "      <th></th>\n",
       "      <th></th>\n",
       "      <th></th>\n",
       "      <th></th>\n",
       "      <th></th>\n",
       "      <th></th>\n",
       "      <th></th>\n",
       "      <th></th>\n",
       "      <th></th>\n",
       "      <th></th>\n",
       "      <th></th>\n",
       "      <th></th>\n",
       "    </tr>\n",
       "  </thead>\n",
       "  <tbody>\n",
       "    <tr>\n",
       "      <th>2017-05-11 00:00:00-04:00</th>\n",
       "      <td>108.35</td>\n",
       "      <td>108.540</td>\n",
       "      <td>108.3435</td>\n",
       "      <td>108.515</td>\n",
       "      <td>1773499</td>\n",
       "      <td>NaN</td>\n",
       "      <td>239.35</td>\n",
       "      <td>239.57</td>\n",
       "      <td>238.13</td>\n",
       "      <td>239.410</td>\n",
       "      <td>45435690</td>\n",
       "      <td>NaN</td>\n",
       "    </tr>\n",
       "    <tr>\n",
       "      <th>2017-05-12 00:00:00-04:00</th>\n",
       "      <td>108.81</td>\n",
       "      <td>108.940</td>\n",
       "      <td>108.7800</td>\n",
       "      <td>108.920</td>\n",
       "      <td>1136553</td>\n",
       "      <td>0.003732</td>\n",
       "      <td>239.09</td>\n",
       "      <td>239.21</td>\n",
       "      <td>238.67</td>\n",
       "      <td>239.030</td>\n",
       "      <td>35283567</td>\n",
       "      <td>-0.001587</td>\n",
       "    </tr>\n",
       "    <tr>\n",
       "      <th>2017-05-15 00:00:00-04:00</th>\n",
       "      <td>108.85</td>\n",
       "      <td>108.940</td>\n",
       "      <td>108.8200</td>\n",
       "      <td>108.890</td>\n",
       "      <td>1620264</td>\n",
       "      <td>-0.000275</td>\n",
       "      <td>239.47</td>\n",
       "      <td>240.44</td>\n",
       "      <td>239.45</td>\n",
       "      <td>240.245</td>\n",
       "      <td>42230620</td>\n",
       "      <td>0.005083</td>\n",
       "    </tr>\n",
       "    <tr>\n",
       "      <th>2017-05-16 00:00:00-04:00</th>\n",
       "      <td>108.88</td>\n",
       "      <td>109.101</td>\n",
       "      <td>108.8800</td>\n",
       "      <td>109.000</td>\n",
       "      <td>1394153</td>\n",
       "      <td>0.001010</td>\n",
       "      <td>240.62</td>\n",
       "      <td>240.67</td>\n",
       "      <td>239.63</td>\n",
       "      <td>240.100</td>\n",
       "      <td>37206183</td>\n",
       "      <td>-0.000604</td>\n",
       "    </tr>\n",
       "    <tr>\n",
       "      <th>2017-05-17 00:00:00-04:00</th>\n",
       "      <td>109.35</td>\n",
       "      <td>109.600</td>\n",
       "      <td>109.2800</td>\n",
       "      <td>109.560</td>\n",
       "      <td>2263851</td>\n",
       "      <td>0.005138</td>\n",
       "      <td>238.10</td>\n",
       "      <td>238.64</td>\n",
       "      <td>235.75</td>\n",
       "      <td>235.850</td>\n",
       "      <td>118613594</td>\n",
       "      <td>-0.017701</td>\n",
       "    </tr>\n",
       "  </tbody>\n",
       "</table>\n",
       "</div>"
      ],
      "text/plain": [
       "                              AGG                                       \\\n",
       "                             open     high       low    close   volume   \n",
       "time                                                                     \n",
       "2017-05-11 00:00:00-04:00  108.35  108.540  108.3435  108.515  1773499   \n",
       "2017-05-12 00:00:00-04:00  108.81  108.940  108.7800  108.920  1136553   \n",
       "2017-05-15 00:00:00-04:00  108.85  108.940  108.8200  108.890  1620264   \n",
       "2017-05-16 00:00:00-04:00  108.88  109.101  108.8800  109.000  1394153   \n",
       "2017-05-17 00:00:00-04:00  109.35  109.600  109.2800  109.560  2263851   \n",
       "\n",
       "                                           SPY                           \\\n",
       "                          daily_return    open    high     low    close   \n",
       "time                                                                      \n",
       "2017-05-11 00:00:00-04:00          NaN  239.35  239.57  238.13  239.410   \n",
       "2017-05-12 00:00:00-04:00     0.003732  239.09  239.21  238.67  239.030   \n",
       "2017-05-15 00:00:00-04:00    -0.000275  239.47  240.44  239.45  240.245   \n",
       "2017-05-16 00:00:00-04:00     0.001010  240.62  240.67  239.63  240.100   \n",
       "2017-05-17 00:00:00-04:00     0.005138  238.10  238.64  235.75  235.850   \n",
       "\n",
       "                                                   \n",
       "                              volume daily_return  \n",
       "time                                               \n",
       "2017-05-11 00:00:00-04:00   45435690          NaN  \n",
       "2017-05-12 00:00:00-04:00   35283567    -0.001587  \n",
       "2017-05-15 00:00:00-04:00   42230620     0.005083  \n",
       "2017-05-16 00:00:00-04:00   37206183    -0.000604  \n",
       "2017-05-17 00:00:00-04:00  118613594    -0.017701  "
      ]
     },
     "execution_count": 61,
     "metadata": {},
     "output_type": "execute_result"
    }
   ],
   "source": [
    "# view returns\n",
    "MC_even_dist.portfolio_data.head()"
   ]
  },
  {
   "cell_type": "code",
   "execution_count": 64,
   "metadata": {},
   "outputs": [
    {
     "name": "stdout",
     "output_type": "stream",
     "text": [
      "Running Monte Carlo simulation number 0.\n",
      "Running Monte Carlo simulation number 10.\n",
      "Running Monte Carlo simulation number 20.\n",
      "Running Monte Carlo simulation number 30.\n",
      "Running Monte Carlo simulation number 40.\n",
      "Running Monte Carlo simulation number 50.\n",
      "Running Monte Carlo simulation number 60.\n",
      "Running Monte Carlo simulation number 70.\n",
      "Running Monte Carlo simulation number 80.\n",
      "Running Monte Carlo simulation number 90.\n",
      "Running Monte Carlo simulation number 100.\n",
      "Running Monte Carlo simulation number 110.\n",
      "Running Monte Carlo simulation number 120.\n",
      "Running Monte Carlo simulation number 130.\n",
      "Running Monte Carlo simulation number 140.\n",
      "Running Monte Carlo simulation number 150.\n",
      "Running Monte Carlo simulation number 160.\n",
      "Running Monte Carlo simulation number 170.\n",
      "Running Monte Carlo simulation number 180.\n",
      "Running Monte Carlo simulation number 190.\n",
      "Running Monte Carlo simulation number 200.\n",
      "Running Monte Carlo simulation number 210.\n",
      "Running Monte Carlo simulation number 220.\n",
      "Running Monte Carlo simulation number 230.\n",
      "Running Monte Carlo simulation number 240.\n",
      "Running Monte Carlo simulation number 250.\n",
      "Running Monte Carlo simulation number 260.\n",
      "Running Monte Carlo simulation number 270.\n",
      "Running Monte Carlo simulation number 280.\n",
      "Running Monte Carlo simulation number 290.\n",
      "Running Monte Carlo simulation number 300.\n",
      "Running Monte Carlo simulation number 310.\n",
      "Running Monte Carlo simulation number 320.\n",
      "Running Monte Carlo simulation number 330.\n",
      "Running Monte Carlo simulation number 340.\n",
      "Running Monte Carlo simulation number 350.\n",
      "Running Monte Carlo simulation number 360.\n",
      "Running Monte Carlo simulation number 370.\n",
      "Running Monte Carlo simulation number 380.\n",
      "Running Monte Carlo simulation number 390.\n",
      "Running Monte Carlo simulation number 400.\n",
      "Running Monte Carlo simulation number 410.\n",
      "Running Monte Carlo simulation number 420.\n",
      "Running Monte Carlo simulation number 430.\n",
      "Running Monte Carlo simulation number 440.\n",
      "Running Monte Carlo simulation number 450.\n",
      "Running Monte Carlo simulation number 460.\n",
      "Running Monte Carlo simulation number 470.\n",
      "Running Monte Carlo simulation number 480.\n",
      "Running Monte Carlo simulation number 490.\n"
     ]
    },
    {
     "data": {
      "text/html": [
       "<div>\n",
       "<style scoped>\n",
       "    .dataframe tbody tr th:only-of-type {\n",
       "        vertical-align: middle;\n",
       "    }\n",
       "\n",
       "    .dataframe tbody tr th {\n",
       "        vertical-align: top;\n",
       "    }\n",
       "\n",
       "    .dataframe thead th {\n",
       "        text-align: right;\n",
       "    }\n",
       "</style>\n",
       "<table border=\"1\" class=\"dataframe\">\n",
       "  <thead>\n",
       "    <tr style=\"text-align: right;\">\n",
       "      <th></th>\n",
       "      <th>0</th>\n",
       "      <th>1</th>\n",
       "      <th>2</th>\n",
       "      <th>3</th>\n",
       "      <th>4</th>\n",
       "      <th>5</th>\n",
       "      <th>6</th>\n",
       "      <th>7</th>\n",
       "      <th>8</th>\n",
       "      <th>9</th>\n",
       "      <th>...</th>\n",
       "      <th>490</th>\n",
       "      <th>491</th>\n",
       "      <th>492</th>\n",
       "      <th>493</th>\n",
       "      <th>494</th>\n",
       "      <th>495</th>\n",
       "      <th>496</th>\n",
       "      <th>497</th>\n",
       "      <th>498</th>\n",
       "      <th>499</th>\n",
       "    </tr>\n",
       "  </thead>\n",
       "  <tbody>\n",
       "    <tr>\n",
       "      <th>0</th>\n",
       "      <td>1.000000</td>\n",
       "      <td>1.000000</td>\n",
       "      <td>1.000000</td>\n",
       "      <td>1.000000</td>\n",
       "      <td>1.000000</td>\n",
       "      <td>1.000000</td>\n",
       "      <td>1.000000</td>\n",
       "      <td>1.000000</td>\n",
       "      <td>1.000000</td>\n",
       "      <td>1.000000</td>\n",
       "      <td>...</td>\n",
       "      <td>1.000000</td>\n",
       "      <td>1.000000</td>\n",
       "      <td>1.000000</td>\n",
       "      <td>1.000000</td>\n",
       "      <td>1.000000</td>\n",
       "      <td>1.000000</td>\n",
       "      <td>1.000000</td>\n",
       "      <td>1.000000</td>\n",
       "      <td>1.000000</td>\n",
       "      <td>1.000000</td>\n",
       "    </tr>\n",
       "    <tr>\n",
       "      <th>1</th>\n",
       "      <td>1.000466</td>\n",
       "      <td>0.996062</td>\n",
       "      <td>0.987390</td>\n",
       "      <td>1.000888</td>\n",
       "      <td>1.004556</td>\n",
       "      <td>0.994708</td>\n",
       "      <td>1.004838</td>\n",
       "      <td>0.994583</td>\n",
       "      <td>1.004362</td>\n",
       "      <td>1.006679</td>\n",
       "      <td>...</td>\n",
       "      <td>1.012668</td>\n",
       "      <td>1.001263</td>\n",
       "      <td>0.997705</td>\n",
       "      <td>1.005088</td>\n",
       "      <td>1.010431</td>\n",
       "      <td>0.999038</td>\n",
       "      <td>1.006687</td>\n",
       "      <td>0.999960</td>\n",
       "      <td>0.997426</td>\n",
       "      <td>1.003030</td>\n",
       "    </tr>\n",
       "    <tr>\n",
       "      <th>2</th>\n",
       "      <td>1.004580</td>\n",
       "      <td>0.998027</td>\n",
       "      <td>0.983389</td>\n",
       "      <td>1.007399</td>\n",
       "      <td>1.011840</td>\n",
       "      <td>0.978552</td>\n",
       "      <td>0.999395</td>\n",
       "      <td>0.997498</td>\n",
       "      <td>0.996734</td>\n",
       "      <td>1.000487</td>\n",
       "      <td>...</td>\n",
       "      <td>1.009678</td>\n",
       "      <td>1.006407</td>\n",
       "      <td>0.994855</td>\n",
       "      <td>1.001844</td>\n",
       "      <td>1.021983</td>\n",
       "      <td>0.986639</td>\n",
       "      <td>1.011797</td>\n",
       "      <td>0.997575</td>\n",
       "      <td>1.017436</td>\n",
       "      <td>0.997828</td>\n",
       "    </tr>\n",
       "    <tr>\n",
       "      <th>3</th>\n",
       "      <td>1.000396</td>\n",
       "      <td>1.008783</td>\n",
       "      <td>0.982059</td>\n",
       "      <td>1.017853</td>\n",
       "      <td>1.017878</td>\n",
       "      <td>0.983691</td>\n",
       "      <td>1.008440</td>\n",
       "      <td>0.992895</td>\n",
       "      <td>1.009362</td>\n",
       "      <td>1.002944</td>\n",
       "      <td>...</td>\n",
       "      <td>1.012540</td>\n",
       "      <td>1.013844</td>\n",
       "      <td>0.995332</td>\n",
       "      <td>0.991354</td>\n",
       "      <td>1.014950</td>\n",
       "      <td>0.992681</td>\n",
       "      <td>1.017289</td>\n",
       "      <td>1.005007</td>\n",
       "      <td>1.019963</td>\n",
       "      <td>0.997911</td>\n",
       "    </tr>\n",
       "    <tr>\n",
       "      <th>4</th>\n",
       "      <td>1.002563</td>\n",
       "      <td>0.992284</td>\n",
       "      <td>0.971766</td>\n",
       "      <td>1.015213</td>\n",
       "      <td>1.019261</td>\n",
       "      <td>0.982092</td>\n",
       "      <td>1.000144</td>\n",
       "      <td>0.994822</td>\n",
       "      <td>1.004678</td>\n",
       "      <td>1.003318</td>\n",
       "      <td>...</td>\n",
       "      <td>1.020390</td>\n",
       "      <td>1.009972</td>\n",
       "      <td>0.983341</td>\n",
       "      <td>0.989018</td>\n",
       "      <td>0.996717</td>\n",
       "      <td>0.982008</td>\n",
       "      <td>1.029678</td>\n",
       "      <td>1.010400</td>\n",
       "      <td>1.017568</td>\n",
       "      <td>1.003822</td>\n",
       "    </tr>\n",
       "    <tr>\n",
       "      <th>...</th>\n",
       "      <td>...</td>\n",
       "      <td>...</td>\n",
       "      <td>...</td>\n",
       "      <td>...</td>\n",
       "      <td>...</td>\n",
       "      <td>...</td>\n",
       "      <td>...</td>\n",
       "      <td>...</td>\n",
       "      <td>...</td>\n",
       "      <td>...</td>\n",
       "      <td>...</td>\n",
       "      <td>...</td>\n",
       "      <td>...</td>\n",
       "      <td>...</td>\n",
       "      <td>...</td>\n",
       "      <td>...</td>\n",
       "      <td>...</td>\n",
       "      <td>...</td>\n",
       "      <td>...</td>\n",
       "      <td>...</td>\n",
       "      <td>...</td>\n",
       "    </tr>\n",
       "    <tr>\n",
       "      <th>7556</th>\n",
       "      <td>11.137637</td>\n",
       "      <td>17.304381</td>\n",
       "      <td>20.183583</td>\n",
       "      <td>60.967886</td>\n",
       "      <td>14.426128</td>\n",
       "      <td>16.164651</td>\n",
       "      <td>37.684256</td>\n",
       "      <td>14.108927</td>\n",
       "      <td>10.038902</td>\n",
       "      <td>59.221250</td>\n",
       "      <td>...</td>\n",
       "      <td>7.544866</td>\n",
       "      <td>20.520147</td>\n",
       "      <td>28.549591</td>\n",
       "      <td>46.259224</td>\n",
       "      <td>19.557743</td>\n",
       "      <td>15.975449</td>\n",
       "      <td>20.453320</td>\n",
       "      <td>9.607683</td>\n",
       "      <td>28.475229</td>\n",
       "      <td>10.974789</td>\n",
       "    </tr>\n",
       "    <tr>\n",
       "      <th>7557</th>\n",
       "      <td>11.226568</td>\n",
       "      <td>17.242321</td>\n",
       "      <td>20.174939</td>\n",
       "      <td>61.528739</td>\n",
       "      <td>14.228229</td>\n",
       "      <td>16.524570</td>\n",
       "      <td>37.588818</td>\n",
       "      <td>14.097376</td>\n",
       "      <td>10.026428</td>\n",
       "      <td>60.019817</td>\n",
       "      <td>...</td>\n",
       "      <td>7.448510</td>\n",
       "      <td>20.689007</td>\n",
       "      <td>28.668060</td>\n",
       "      <td>46.883340</td>\n",
       "      <td>19.881463</td>\n",
       "      <td>16.138920</td>\n",
       "      <td>20.430255</td>\n",
       "      <td>9.555334</td>\n",
       "      <td>28.476229</td>\n",
       "      <td>10.932760</td>\n",
       "    </tr>\n",
       "    <tr>\n",
       "      <th>7558</th>\n",
       "      <td>11.237891</td>\n",
       "      <td>17.292917</td>\n",
       "      <td>20.168910</td>\n",
       "      <td>61.894146</td>\n",
       "      <td>14.171925</td>\n",
       "      <td>16.526406</td>\n",
       "      <td>37.851332</td>\n",
       "      <td>14.066362</td>\n",
       "      <td>10.085593</td>\n",
       "      <td>60.365093</td>\n",
       "      <td>...</td>\n",
       "      <td>7.487703</td>\n",
       "      <td>20.594598</td>\n",
       "      <td>28.716768</td>\n",
       "      <td>47.468133</td>\n",
       "      <td>20.089190</td>\n",
       "      <td>16.288973</td>\n",
       "      <td>20.438664</td>\n",
       "      <td>9.426196</td>\n",
       "      <td>28.473797</td>\n",
       "      <td>10.814727</td>\n",
       "    </tr>\n",
       "    <tr>\n",
       "      <th>7559</th>\n",
       "      <td>11.262139</td>\n",
       "      <td>17.323187</td>\n",
       "      <td>20.339011</td>\n",
       "      <td>61.235686</td>\n",
       "      <td>14.115481</td>\n",
       "      <td>16.643239</td>\n",
       "      <td>37.789268</td>\n",
       "      <td>14.119864</td>\n",
       "      <td>10.273179</td>\n",
       "      <td>60.651874</td>\n",
       "      <td>...</td>\n",
       "      <td>7.500691</td>\n",
       "      <td>20.540124</td>\n",
       "      <td>28.833564</td>\n",
       "      <td>47.939662</td>\n",
       "      <td>20.154271</td>\n",
       "      <td>16.275521</td>\n",
       "      <td>20.647920</td>\n",
       "      <td>9.334595</td>\n",
       "      <td>28.252393</td>\n",
       "      <td>10.629246</td>\n",
       "    </tr>\n",
       "    <tr>\n",
       "      <th>7560</th>\n",
       "      <td>11.321251</td>\n",
       "      <td>17.140637</td>\n",
       "      <td>20.515101</td>\n",
       "      <td>61.683831</td>\n",
       "      <td>14.107992</td>\n",
       "      <td>16.747227</td>\n",
       "      <td>38.082672</td>\n",
       "      <td>14.145537</td>\n",
       "      <td>10.317743</td>\n",
       "      <td>61.145336</td>\n",
       "      <td>...</td>\n",
       "      <td>7.468083</td>\n",
       "      <td>20.490350</td>\n",
       "      <td>29.287045</td>\n",
       "      <td>47.482613</td>\n",
       "      <td>20.193442</td>\n",
       "      <td>16.361916</td>\n",
       "      <td>20.373393</td>\n",
       "      <td>9.294239</td>\n",
       "      <td>28.487986</td>\n",
       "      <td>10.613256</td>\n",
       "    </tr>\n",
       "  </tbody>\n",
       "</table>\n",
       "<p>7561 rows × 500 columns</p>\n",
       "</div>"
      ],
      "text/plain": [
       "            0          1          2          3          4          5    \\\n",
       "0      1.000000   1.000000   1.000000   1.000000   1.000000   1.000000   \n",
       "1      1.000466   0.996062   0.987390   1.000888   1.004556   0.994708   \n",
       "2      1.004580   0.998027   0.983389   1.007399   1.011840   0.978552   \n",
       "3      1.000396   1.008783   0.982059   1.017853   1.017878   0.983691   \n",
       "4      1.002563   0.992284   0.971766   1.015213   1.019261   0.982092   \n",
       "...         ...        ...        ...        ...        ...        ...   \n",
       "7556  11.137637  17.304381  20.183583  60.967886  14.426128  16.164651   \n",
       "7557  11.226568  17.242321  20.174939  61.528739  14.228229  16.524570   \n",
       "7558  11.237891  17.292917  20.168910  61.894146  14.171925  16.526406   \n",
       "7559  11.262139  17.323187  20.339011  61.235686  14.115481  16.643239   \n",
       "7560  11.321251  17.140637  20.515101  61.683831  14.107992  16.747227   \n",
       "\n",
       "            6          7          8          9    ...       490        491  \\\n",
       "0      1.000000   1.000000   1.000000   1.000000  ...  1.000000   1.000000   \n",
       "1      1.004838   0.994583   1.004362   1.006679  ...  1.012668   1.001263   \n",
       "2      0.999395   0.997498   0.996734   1.000487  ...  1.009678   1.006407   \n",
       "3      1.008440   0.992895   1.009362   1.002944  ...  1.012540   1.013844   \n",
       "4      1.000144   0.994822   1.004678   1.003318  ...  1.020390   1.009972   \n",
       "...         ...        ...        ...        ...  ...       ...        ...   \n",
       "7556  37.684256  14.108927  10.038902  59.221250  ...  7.544866  20.520147   \n",
       "7557  37.588818  14.097376  10.026428  60.019817  ...  7.448510  20.689007   \n",
       "7558  37.851332  14.066362  10.085593  60.365093  ...  7.487703  20.594598   \n",
       "7559  37.789268  14.119864  10.273179  60.651874  ...  7.500691  20.540124   \n",
       "7560  38.082672  14.145537  10.317743  61.145336  ...  7.468083  20.490350   \n",
       "\n",
       "            492        493        494        495        496       497  \\\n",
       "0      1.000000   1.000000   1.000000   1.000000   1.000000  1.000000   \n",
       "1      0.997705   1.005088   1.010431   0.999038   1.006687  0.999960   \n",
       "2      0.994855   1.001844   1.021983   0.986639   1.011797  0.997575   \n",
       "3      0.995332   0.991354   1.014950   0.992681   1.017289  1.005007   \n",
       "4      0.983341   0.989018   0.996717   0.982008   1.029678  1.010400   \n",
       "...         ...        ...        ...        ...        ...       ...   \n",
       "7556  28.549591  46.259224  19.557743  15.975449  20.453320  9.607683   \n",
       "7557  28.668060  46.883340  19.881463  16.138920  20.430255  9.555334   \n",
       "7558  28.716768  47.468133  20.089190  16.288973  20.438664  9.426196   \n",
       "7559  28.833564  47.939662  20.154271  16.275521  20.647920  9.334595   \n",
       "7560  29.287045  47.482613  20.193442  16.361916  20.373393  9.294239   \n",
       "\n",
       "            498        499  \n",
       "0      1.000000   1.000000  \n",
       "1      0.997426   1.003030  \n",
       "2      1.017436   0.997828  \n",
       "3      1.019963   0.997911  \n",
       "4      1.017568   1.003822  \n",
       "...         ...        ...  \n",
       "7556  28.475229  10.974789  \n",
       "7557  28.476229  10.932760  \n",
       "7558  28.473797  10.814727  \n",
       "7559  28.252393  10.629246  \n",
       "7560  28.487986  10.613256  \n",
       "\n",
       "[7561 rows x 500 columns]"
      ]
     },
     "execution_count": 64,
     "metadata": {},
     "output_type": "execute_result"
    }
   ],
   "source": [
    "# Running a Monte Carlo simulation to forecast 30 years cumulative returns\n",
    "MC_even_dist.calc_cumulative_return()"
   ]
  },
  {
   "cell_type": "code",
   "execution_count": null,
   "metadata": {},
   "outputs": [],
   "source": []
  },
  {
   "cell_type": "code",
   "execution_count": 82,
   "metadata": {},
   "outputs": [
    {
     "data": {
      "image/png": "[encoded data removed]",
      "text/plain": [
       "<Figure size 432x288 with 1 Axes>"
      ]
     },
     "metadata": {
      "needs_background": "light"
     },
     "output_type": "display_data"
    }
   ],
   "source": [
    "# Plot simulation outcomes\n",
    "line_plot = MC_even_dist.plot_simulation()"
   ]
  },
  {
   "cell_type": "code",
   "execution_count": 83,
   "metadata": {},
   "outputs": [
    {
     "data": {
      "image/png": "[encoded data removed]",
      "text/plain": [
       "<Figure size 432x288 with 1 Axes>"
      ]
     },
     "metadata": {
      "needs_background": "light"
     },
     "output_type": "display_data"
    }
   ],
   "source": [
    "# Plot probability distribution and confidence intervals\n",
    "dist_plot = MC_even_dist.plot_distribution()"
   ]
  },
  {
   "cell_type": "markdown",
   "metadata": {},
   "source": [
    "### Retirement Analysis"
   ]
  },
  {
   "cell_type": "code",
   "execution_count": 84,
   "metadata": {},
   "outputs": [
    {
     "name": "stdout",
     "output_type": "stream",
     "text": [
      "count           500.000000\n",
      "mean             24.934411\n",
      "std              18.685242\n",
      "min               1.773930\n",
      "25%              12.868549\n",
      "50%              19.230999\n",
      "75%              30.768030\n",
      "max             128.474001\n",
      "95% CI Lower      5.173400\n",
      "95% CI Upper     76.589664\n",
      "Name: 7560, dtype: float64\n"
     ]
    }
   ],
   "source": [
    "# Fetch summary statistics from the Monte Carlo simulation results\n",
    "even_tbl = MC_even_dist.summarize_cumulative_return()\n",
    "\n",
    "# Print summary statistics\n",
    "print(even_tbl)"
   ]
  },
  {
   "cell_type": "markdown",
   "metadata": {},
   "source": [
    "### Calculate the expected portfolio return at the `95%` lower and upper confidence intervals based on a `$20,000` initial investment."
   ]
  },
  {
   "cell_type": "code",
   "execution_count": 85,
   "metadata": {},
   "outputs": [
    {
     "name": "stdout",
     "output_type": "stream",
     "text": [
      "There is a 95% chance that an initial investment of $20000 in the portfolio over the next 30 years will end within in the range of $103467.99 and $1531793.29\n"
     ]
    }
   ],
   "source": [
    "# Set initial investment\n",
    "initial_investment = 20000\n",
    "\n",
    "# Use the lower and upper `95%` confidence intervals to calculate the range of the possible outcomes of our $20,000\n",
    "ci_lower = round(even_tbl[8]*initial_investment,2)\n",
    "ci_upper = round(even_tbl[9]*initial_investment,2)\n",
    "\n",
    "# Print results\n",
    "print(f\"There is a 95% chance that an initial investment of ${initial_investment} in the portfolio\"\n",
    "      f\" over the next 30 years will end within in the range of\"\n",
    "      f\" ${ci_lower} and ${ci_upper}\")"
   ]
  },
  {
   "cell_type": "markdown",
   "metadata": {},
   "source": [
    "### Calculate the expected portfolio return at the `95%` lower and upper confidence intervals based on a `50%` increase in the initial investment."
   ]
  },
  {
   "cell_type": "code",
   "execution_count": 86,
   "metadata": {},
   "outputs": [
    {
     "name": "stdout",
     "output_type": "stream",
     "text": [
      "There is a 95% chance that an initial investment of $30000.0 in the portfolio over the next 30 years will end within in the range of $103467.99 and $1531793.29\n"
     ]
    }
   ],
   "source": [
    "# Set initial investment\n",
    "initial_investment = 20000 * 1.5\n",
    "\n",
    "# Use the lower and upper `95%` confidence intervals to calculate the range of the possible outcomes of our $30,000\n",
    "\n",
    "\n",
    "# Print results\n",
    "print(f\"There is a 95% chance that an initial investment of ${initial_investment} in the portfolio\"\n",
    "      f\" over the next 30 years will end within in the range of\"\n",
    "      f\" ${ci_lower} and ${ci_upper}\")"
   ]
  },
  {
   "cell_type": "markdown",
   "metadata": {},
   "source": [
    "## Optional Challenge - Early Retirement\n",
    "\n",
    "\n",
    "### Five Years Retirement Option"
   ]
  },
  {
   "cell_type": "code",
   "execution_count": 87,
   "metadata": {},
   "outputs": [],
   "source": [
    "# Configuring a Monte Carlo simulation to forecast 5 years cumulative returns\n",
    "MC_even_dist_5 = MCSimulation(\n",
    "    portfolio_data = df_stock_data,\n",
    "    weights = [.20,.80 ],\n",
    "    num_simulation = 500,\n",
    "    num_trading_days = 252*5\n",
    ")"
   ]
  },
  {
   "cell_type": "code",
   "execution_count": null,
   "metadata": {},
   "outputs": [
    {
     "name": "stdout",
     "output_type": "stream",
     "text": [
      "Running Monte Carlo simulation number 0.\n",
      "Running Monte Carlo simulation number 10.\n",
      "Running Monte Carlo simulation number 20.\n",
      "Running Monte Carlo simulation number 30.\n",
      "Running Monte Carlo simulation number 40.\n",
      "Running Monte Carlo simulation number 50.\n",
      "Running Monte Carlo simulation number 60.\n",
      "Running Monte Carlo simulation number 70.\n",
      "Running Monte Carlo simulation number 80.\n",
      "Running Monte Carlo simulation number 90.\n",
      "Running Monte Carlo simulation number 100.\n",
      "Running Monte Carlo simulation number 110.\n",
      "Running Monte Carlo simulation number 120.\n",
      "Running Monte Carlo simulation number 130.\n",
      "Running Monte Carlo simulation number 140.\n",
      "Running Monte Carlo simulation number 150.\n",
      "Running Monte Carlo simulation number 160.\n",
      "Running Monte Carlo simulation number 170.\n",
      "Running Monte Carlo simulation number 180.\n",
      "Running Monte Carlo simulation number 190.\n",
      "Running Monte Carlo simulation number 200.\n",
      "Running Monte Carlo simulation number 210.\n",
      "Running Monte Carlo simulation number 220.\n",
      "Running Monte Carlo simulation number 230.\n"
     ]
    }
   ],
   "source": [
    "# Running a Monte Carlo simulation to forecast 5 years cumulative returns\n",
    "MC_even_dist_5.calc_cumulative_return()"
   ]
  },
  {
   "cell_type": "code",
   "execution_count": null,
   "metadata": {},
   "outputs": [],
   "source": [
    "# Plot simulation outcomes\n",
    "line_plot_5 = MC_even_dist_5.plot_simulation()"
   ]
  },
  {
   "cell_type": "code",
   "execution_count": null,
   "metadata": {},
   "outputs": [],
   "source": [
    "# Plot probability distribution and confidence intervals\n",
    "dist_plot_5 = MC_even_dist_5.plot_distribution()"
   ]
  },
  {
   "cell_type": "code",
   "execution_count": null,
   "metadata": {},
   "outputs": [],
   "source": [
    "# Fetch summary statistics from the Monte Carlo simulation results\n",
    "even_tbl_5 = MC_even_dist_5.summarize_cumulative_return()\n",
    "\n",
    "# Print summary statistics. here are those descriptive statistics again. They quick overview of\n",
    "# is happening with the investments\n",
    "print(even_tbl_5)"
   ]
  },
  {
   "cell_type": "code",
   "execution_count": null,
   "metadata": {},
   "outputs": [],
   "source": [
    "# Set initial investment\n",
    "initial_investment_5 = 30000\n",
    "\n",
    "# Use the lower and upper `95%` confidence intervals to calculate the range of the possible outcomes of our $60,000\n",
    "ci_lower_five = round(even_tbl_5[8]*initial_investment_5,2)\n",
    "ci_upper_five = round(even_tbl_5[9]*initial_investment_5,2)\n",
    "\n",
    "# Print results\n",
    "print(f\"There is a 95% chance that an initial investment of ${initial_investment} in the portfolio\"\n",
    "      f\" over the next 5 years will end within in the range of\"\n",
    "      f\" ${ci_lower_five} and ${ci_upper_five}\")"
   ]
  },
  {
   "cell_type": "markdown",
   "metadata": {},
   "source": [
    "### Ten Years Retirement Option"
   ]
  },
  {
   "cell_type": "code",
   "execution_count": null,
   "metadata": {},
   "outputs": [],
   "source": [
    "# Configuring a Monte Carlo simulation to forecast 10 years cumulative returns\n",
    "MC_even_dist_10 = MCSimulation(\n",
    "    portfolio_data = df_stock_data,\n",
    "    weights = [.20,.80 ],\n",
    "    num_simulation = 500,\n",
    "    num_trading_days = 252*10\n",
    ")"
   ]
  },
  {
   "cell_type": "code",
   "execution_count": null,
   "metadata": {},
   "outputs": [],
   "source": [
    "# Running a Monte Carlo simulation to forecast 10 years cumulative returns\n",
    "MC_even_dist_10.calc_cumulative_return()"
   ]
  },
  {
   "cell_type": "code",
   "execution_count": null,
   "metadata": {},
   "outputs": [],
   "source": [
    "# Plot Line of Simulation Outcomes\n",
    "# This line graph is probably not the best way to display these returns....(?)\n",
    "\n",
    "line_plot_10 = MC_even_dist_10.plot_simulation();"
   ]
  },
  {
   "cell_type": "code",
   "execution_count": null,
   "metadata": {},
   "outputs": [],
   "source": []
  },
  {
   "cell_type": "code",
   "execution_count": null,
   "metadata": {},
   "outputs": [],
   "source": [
    "\n",
    "# Plot probability distribution and confidence intervals\n",
    "\n",
    "dist_plot_10 = MC_even_dist_10.plot_distribution()"
   ]
  },
  {
   "cell_type": "code",
   "execution_count": null,
   "metadata": {},
   "outputs": [],
   "source": [
    "# Fetch summary statistics from the Monte Carlo simulation results\n",
    "even_tbl_10 = MC_even_dist_10.summarize_cumulative_return()\n",
    "\n",
    "# Print summary statistics\n",
    "print(even_tbl_10)"
   ]
  },
  {
   "cell_type": "code",
   "execution_count": null,
   "metadata": {},
   "outputs": [],
   "source": [
    "# Set initial investment\n",
    "initial_investment_10 = 30000\n",
    "\n",
    "# Use the lower and upper `95%` confidence intervals to calculate the range of the \n",
    "# possible outcomes of our $60,000\n",
    "ci_lower_ten = round(even_tbl_10[8]*initial_investment_10,2)\n",
    "ci_upper_ten = round(even_tbl_10[9]*initial_investment_10,2)\n",
    "\n",
    "# Print results\n",
    "print(f\"There is a 95% chance that an initial investment of ${initial_investment} in the portfolio\"\n",
    "      f\" over the next 10 years will end within in the range of\"\n",
    "      f\" ${ci_lower_ten} and ${ci_upper_ten}\")"
   ]
  },
  {
   "cell_type": "code",
   "execution_count": null,
   "metadata": {},
   "outputs": [],
   "source": [
    "pwd\n"
   ]
  },
  {
   "cell_type": "code",
   "execution_count": null,
   "metadata": {},
   "outputs": [],
   "source": []
  },
  {
   "cell_type": "code",
   "execution_count": null,
   "metadata": {},
   "outputs": [],
   "source": []
  },
  {
   "cell_type": "code",
   "execution_count": null,
   "metadata": {},
   "outputs": [],
   "source": []
  },
  {
   "cell_type": "code",
   "execution_count": null,
   "metadata": {},
   "outputs": [],
   "source": []
  }
 ],
 "metadata": {
  "kernelspec": {
   "display_name": "Alpaca",
   "language": "python",
   "name": "alpacaenv"
  },
  "language_info": {
   "codemirror_mode": {
    "name": "ipython",
    "version": 3
   },
   "file_extension": ".py",
   "mimetype": "text/x-python",
   "name": "python",
   "nbconvert_exporter": "python",
   "pygments_lexer": "ipython3",
   "version": "3.7.9"
  },
  "nteract": {
   "version": "0.28.0"
  }
 },
 "nbformat": 4,
 "nbformat_minor": 4
}
